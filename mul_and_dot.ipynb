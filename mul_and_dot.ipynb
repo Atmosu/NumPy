{
 "cells": [
  {
   "cell_type": "code",
   "execution_count": 11,
   "metadata": {},
   "outputs": [
    {
     "name": "stdout",
     "output_type": "stream",
     "text": [
      "[[ 9 20 19]\n",
      " [23 46 41]\n",
      " [37 72 63]]\n",
      "59\n"
     ]
    }
   ],
   "source": [
    "import numpy as np\n",
    "\n",
    "# Create two matrices as 2D arrays\n",
    "A = np.array([[1, 2], [3, 4], [5, 6]])\n",
    "B = np.array([[5, 6, 3], [2, 7, 8]])\n",
    "\n",
    "# Matrix multiplication using np.matmul()\n",
    "C = np.matmul(A, B)  # can also use @ operator to multiply matrices\n",
    "print(C)\n",
    "\n",
    "#for dot product\n",
    "\n",
    "ab = np.array([1, 2, 7, 6])\n",
    "bc = np.array([4, 5, 3, 4]) \n",
    "\n",
    "dot_product = np.dot(ab, bc)\n",
    "print(dot_product)  \n",
    "\n"
   ]
  }
 ],
 "metadata": {
  "kernelspec": {
   "display_name": "Python 3",
   "language": "python",
   "name": "python3"
  },
  "language_info": {
   "codemirror_mode": {
    "name": "ipython",
    "version": 3
   },
   "file_extension": ".py",
   "mimetype": "text/x-python",
   "name": "python",
   "nbconvert_exporter": "python",
   "pygments_lexer": "ipython3",
   "version": "3.10.5"
  },
  "orig_nbformat": 4
 },
 "nbformat": 4,
 "nbformat_minor": 2
}
