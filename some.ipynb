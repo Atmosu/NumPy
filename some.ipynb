{
 "cells": [
  {
   "cell_type": "code",
   "execution_count": 30,
   "metadata": {},
   "outputs": [
    {
     "name": "stdout",
     "output_type": "stream",
     "text": [
      "[1 2 3] [3 4 6] [1 2 3]\n",
      "[1 2 3 3 1 3 2 1 1 2 3 2]\n",
      "[[6 5 8]\n",
      " [0 2 2]\n",
      " [1 8 3]\n",
      " [2 6 6]]\n",
      "[ 1  3  5  7  8 10 11 23 32 55]\n",
      "[10 10  8  7  5  5 23 32 32 23 11 32 55 55  3  3  3  1  1  1]\n",
      "[[2 7 4]\n",
      " [6 3 2]\n",
      " [1 1 2]\n",
      " [4 3 1]]\n",
      "[[1 3 4 2]\n",
      " [1 1 2 3]\n",
      " [6 4 7 2]]\n",
      "[[1 1 6]\n",
      " [3 1 4]\n",
      " [4 2 7]\n",
      " [2 3 2]]\n",
      "[1 3 4 2 1 1 2 3 6 4 7 2]\n"
     ]
    }
   ],
   "source": [
    "import numpy as np\n",
    "\n",
    "\n",
    "arr = np.array([\n",
    "    [[1, 2, 3], [4, 5, 6],[3, 7, 1]],\n",
    "    [[3, 4, 6], [2, 5, 9], [6, 4, 1]],\n",
    "    [[1, 2, 3], [2, 4, 7], [4, 5, 8]]\n",
    "    ])\n",
    " \n",
    "print(arr[0][0], arr[1][0], arr[2][0])\n",
    "cond = arr < 4\n",
    "les4 = arr[cond]\n",
    "print   (les4)\n",
    "#random number generator\n",
    "rand = np.random.default_rng()\n",
    "print (rand.integers(10, size=(4,3)))\n",
    "#unique values np.unique\n",
    "leta = np.array ([1,1,1,3,3,3,55,55,32,11,23,32,32,23,5,5,7,8,10,10])\n",
    "uniqval = np.unique (leta)\n",
    "print (uniqval)\n",
    "#reverse or flip the array\n",
    "revleta = np.flip(leta)\n",
    "print (revleta) # can also be done with 2D,3D,... array like\n",
    "two_d = np.array (\n",
    "    [[1,3,4],\n",
    "    [2,1,1],\n",
    "    [2,3,6],\n",
    "    [4,7,2]]\n",
    ")\n",
    "revtwo = np.flip (two_d)\n",
    "print (revtwo) \n",
    "#reshape\n",
    "reshapetwo = np.reshape (two_d, (3,4))\n",
    "print (reshapetwo)\n",
    "tpose = reshapetwo.T #this is for transpose arr.transpose() can also be used\n",
    "print (tpose)\n",
    "#lets flatten array like flat earth into 1D lol\n",
    "flat_arr = two_d.flatten()\n",
    "print (flat_arr) #flatten dont change parent array while 'ravel' does change the parent array\n",
    "\n"
   ]
  }
 ],
 "metadata": {
  "kernelspec": {
   "display_name": "Python 3",
   "language": "python",
   "name": "python3"
  },
  "language_info": {
   "codemirror_mode": {
    "name": "ipython",
    "version": 3
   },
   "file_extension": ".py",
   "mimetype": "text/x-python",
   "name": "python",
   "nbconvert_exporter": "python",
   "pygments_lexer": "ipython3",
   "version": "3.10.5"
  },
  "orig_nbformat": 4
 },
 "nbformat": 4,
 "nbformat_minor": 2
}
