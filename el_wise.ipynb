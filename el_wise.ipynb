{
 "cells": [
  {
   "cell_type": "code",
   "execution_count": 12,
   "metadata": {},
   "outputs": [
    {
     "name": "stdout",
     "output_type": "stream",
     "text": [
      "[-1  0  1  2  3  5  7  9 10]\n",
      "[ 6 12 18 24 30 42 54 66 72]\n",
      "[   1    8   27   64  125  343  729 1331 1728]\n",
      "[False False False  True  True  True  True  True  True]\n"
     ]
    }
   ],
   "source": [
    "import numpy as np \n",
    "\n",
    "a = np.array([1, 2, 3, 4, 5, 7, 9, 11, 12])\n",
    "\n",
    "b = a - 2\n",
    "\n",
    "print (b)\n",
    "\n",
    "mul = a * 6\n",
    "print(mul)\n",
    "\n",
    "\n",
    "exp = a ** 3   #double ** is exponent\n",
    "print(exp)\n",
    "\n",
    "greater_than_3 = a > 3\n",
    "print(greater_than_3) "
   ]
  }
 ],
 "metadata": {
  "kernelspec": {
   "display_name": "Python 3",
   "language": "python",
   "name": "python3"
  },
  "language_info": {
   "codemirror_mode": {
    "name": "ipython",
    "version": 3
   },
   "file_extension": ".py",
   "mimetype": "text/x-python",
   "name": "python",
   "nbconvert_exporter": "python",
   "pygments_lexer": "ipython3",
   "version": "3.10.5"
  },
  "orig_nbformat": 4
 },
 "nbformat": 4,
 "nbformat_minor": 2
}
